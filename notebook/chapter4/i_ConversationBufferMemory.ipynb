{
 "cells": [
  {
   "cell_type": "markdown",
   "id": "03e7769e",
   "metadata": {},
   "source": [
    "# 一. 初始化"
   ]
  },
  {
   "cell_type": "markdown",
   "id": "d7f03507",
   "metadata": {},
   "source": [
    "添加根目录到运行路径"
   ]
  },
  {
   "cell_type": "code",
   "execution_count": 2,
   "id": "520f1962",
   "metadata": {},
   "outputs": [],
   "source": [
    "import sys\n",
    "import os\n",
    "sys.path.append(os.path.join(os.getcwd(), '..', '..'))  # 添加上一级目录到路径"
   ]
  },
  {
   "cell_type": "markdown",
   "id": "1be2c825",
   "metadata": {},
   "source": [
    "通过 api 创建一个 llm 实例并测试"
   ]
  },
  {
   "cell_type": "code",
   "execution_count": 7,
   "id": "fb6ec91a",
   "metadata": {},
   "outputs": [
    {
     "name": "stdout",
     "output_type": "stream",
     "text": [
      "content='我是通义千问，阿里巴巴集团旗下的超大规模语言模型。我能够回答问题、创作文字，如写故事、公文、邮件、剧本等，还能进行逻辑推理、编程，表达观点，玩游戏等。我支持多种语言，包括但不限于中文、英文、德语、法语、西班牙语等。如果你有任何问题或需要帮助，欢迎随时告诉我！' additional_kwargs={'refusal': None} response_metadata={'token_usage': {'completion_tokens': 79, 'prompt_tokens': 22, 'total_tokens': 101, 'completion_tokens_details': None, 'prompt_tokens_details': {'audio_tokens': None, 'cached_tokens': 0}}, 'model_name': 'qwen-plus', 'system_fingerprint': None, 'id': 'chatcmpl-e0e96204-a7bf-4282-b2af-7b5256bf59be', 'service_tier': None, 'finish_reason': 'stop', 'logprobs': None} id='run--b6de3be1-70c4-4562-9e08-3d5d70d4eef7-0' usage_metadata={'input_tokens': 22, 'output_tokens': 79, 'total_tokens': 101, 'input_token_details': {'cache_read': 0}, 'output_token_details': {}}\n",
      "属性: {'content': '我是通义千问，阿里巴巴集团旗下的超大规模语言模型。我能够回答问题、创作文字，如写故事、公文、邮件、剧本等，还能进行逻辑推理、编程，表达观点，玩游戏等。我支持多种语言，包括但不限于中文、英文、德语、法语、西班牙语等。如果你有任何问题或需要帮助，欢迎随时告诉我！', 'additional_kwargs': {'refusal': None}, 'response_metadata': {'token_usage': {'completion_tokens': 79, 'prompt_tokens': 22, 'total_tokens': 101, 'completion_tokens_details': None, 'prompt_tokens_details': {'audio_tokens': None, 'cached_tokens': 0}}, 'model_name': 'qwen-plus', 'system_fingerprint': None, 'id': 'chatcmpl-e0e96204-a7bf-4282-b2af-7b5256bf59be', 'service_tier': None, 'finish_reason': 'stop', 'logprobs': None}, 'type': 'ai', 'name': None, 'id': 'run--b6de3be1-70c4-4562-9e08-3d5d70d4eef7-0', 'example': False, 'tool_calls': [], 'invalid_tool_calls': [], 'usage_metadata': {'input_tokens': 22, 'output_tokens': 79, 'total_tokens': 101, 'input_token_details': {'cache_read': 0}, 'output_token_details': {}}}\n"
     ]
    }
   ],
   "source": [
    "from src import apiLoader\n",
    "from langchain_openai import ChatOpenAI\n",
    "\n",
    "llm = ChatOpenAI(\n",
    "        api_key= apiLoader.load_key(),\n",
    "        base_url=\"https://dashscope.aliyuncs.com/compatible-mode/v1\",\n",
    "        model=\"qwen-plus\",  # 此处以qwen-plus为例，您可按需更换模型名称。模型列表：https://help.aliyun.com/zh/model-studio/getting-started/models\n",
    "        temperature=0.5# other params...\n",
    "    )\n",
    "\n",
    "messages = [\n",
    "        {\"role\": \"system\", \"content\": \"You are a helpful assistant.\"},\n",
    "        {\"role\": \"user\", \"content\": \"你是谁？\"}]\n",
    "response = llm.invoke(messages)\n",
    "print(response)\n",
    "print(f\"属性: {vars(response)}\")"
   ]
  }
 ],
 "metadata": {
  "kernelspec": {
   "display_name": "llmDev",
   "language": "python",
   "name": "python3"
  },
  "language_info": {
   "codemirror_mode": {
    "name": "ipython",
    "version": 3
   },
   "file_extension": ".py",
   "mimetype": "text/x-python",
   "name": "python",
   "nbconvert_exporter": "python",
   "pygments_lexer": "ipython3",
   "version": "3.11.13"
  }
 },
 "nbformat": 4,
 "nbformat_minor": 5
}
