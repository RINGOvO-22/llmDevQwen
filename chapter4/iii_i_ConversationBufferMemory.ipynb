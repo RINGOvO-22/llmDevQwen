{
 "cells": [
  {
   "cell_type": "markdown",
   "id": "3d7056da",
   "metadata": {},
   "source": [
    "# 1. 初始化对话模型"
   ]
  },
  {
   "cell_type": "code",
   "execution_count": 2,
   "id": "8175c4fb",
   "metadata": {},
   "outputs": [
    {
     "ename": "ModuleNotFoundError",
     "evalue": "No module named 'utils'",
     "output_type": "error",
     "traceback": [
      "\u001b[31m---------------------------------------------------------------------------\u001b[39m",
      "\u001b[31mModuleNotFoundError\u001b[39m                       Traceback (most recent call last)",
      "\u001b[36mCell\u001b[39m\u001b[36m \u001b[39m\u001b[32mIn[2]\u001b[39m\u001b[32m, line 4\u001b[39m\n\u001b[32m      2\u001b[39m \u001b[38;5;28;01mfrom\u001b[39;00m\u001b[38;5;250m \u001b[39m\u001b[34;01mlangchain\u001b[39;00m\u001b[34;01m.\u001b[39;00m\u001b[34;01mmemory\u001b[39;00m\u001b[38;5;250m \u001b[39m\u001b[38;5;28;01mimport\u001b[39;00m ConversationBufferMemory\n\u001b[32m      3\u001b[39m \u001b[38;5;28;01mfrom\u001b[39;00m\u001b[38;5;250m \u001b[39m\u001b[34;01mlangchain_openai\u001b[39;00m\u001b[38;5;250m \u001b[39m\u001b[38;5;28;01mimport\u001b[39;00m ChatOpenAI\n\u001b[32m----> \u001b[39m\u001b[32m4\u001b[39m \u001b[38;5;28;01mfrom\u001b[39;00m\u001b[38;5;250m \u001b[39m\u001b[34;01mutils\u001b[39;00m\u001b[38;5;250m \u001b[39m\u001b[38;5;28;01mimport\u001b[39;00m apiLoader\n\u001b[32m      6\u001b[39m \u001b[38;5;66;03m# 这里将参数temperature设置为0.0，从而减少生成答案的随机性。\u001b[39;00m\n\u001b[32m      7\u001b[39m \u001b[38;5;66;03m# 如果想要每次得到不一样的有新意的答案，可以尝试增大该参数。\u001b[39;00m\n\u001b[32m      8\u001b[39m llm = ChatOpenAI(\n\u001b[32m      9\u001b[39m         api_key= apiLoader.load_key(),\n\u001b[32m     10\u001b[39m         base_url=\u001b[33m\"\u001b[39m\u001b[33mhttps://dashscope.aliyuncs.com/compatible-mode/v1\u001b[39m\u001b[33m\"\u001b[39m,\n\u001b[32m     11\u001b[39m         model=\u001b[33m\"\u001b[39m\u001b[33mqwen-plus\u001b[39m\u001b[33m\"\u001b[39m,  \u001b[38;5;66;03m# 此处以qwen-plus为例，可按需更换模型名称。模型列表：https://help.aliyun.com/zh/model-studio/getting-started/models\u001b[39;00m\n\u001b[32m     12\u001b[39m         temperature=\u001b[32m0.0\u001b[39m\n\u001b[32m     13\u001b[39m     )\n",
      "\u001b[31mModuleNotFoundError\u001b[39m: No module named 'utils'"
     ]
    }
   ],
   "source": [
    "from langchain.chains import ConversationChain\n",
    "from langchain.memory import ConversationBufferMemory\n",
    "from langchain_openai import ChatOpenAI\n",
    "from utils import apiLoader\n",
    "\n",
    "# 这里将参数temperature设置为0.0，从而减少生成答案的随机性。\n",
    "# 如果想要每次得到不一样的有新意的答案，可以尝试增大该参数。\n",
    "llm = ChatOpenAI(\n",
    "        api_key= apiLoader.load_key(),\n",
    "        base_url=\"https://dashscope.aliyuncs.com/compatible-mode/v1\",\n",
    "        model=\"qwen-plus\",  # 此处以qwen-plus为例，可按需更换模型名称。模型列表：https://help.aliyun.com/zh/model-studio/getting-started/models\n",
    "        temperature=0.0\n",
    "    )\n",
    "memory = ConversationBufferMemory()\n",
    "\n",
    "# 新建一个 ConversationChain Class 实例\n",
    "# verbose参数设置为True时，程序会输出更详细的信息，以提供更多的调试或运行时信息。\n",
    "# 相反，当将verbose参数设置为False时，程序会以更简洁的方式运行，只输出关键的信息。\n",
    "conversation = ConversationChain(llm=llm, memory = memory, verbose=True)"
   ]
  },
  {
   "cell_type": "markdown",
   "id": "1799adfa",
   "metadata": {},
   "source": [
    "# 2. 第一轮对话"
   ]
  },
  {
   "cell_type": "code",
   "execution_count": null,
   "id": "0dbd57bf",
   "metadata": {},
   "outputs": [
    {
     "ename": "NameError",
     "evalue": "name 'conversation' is not defined",
     "output_type": "error",
     "traceback": [
      "\u001b[31m---------------------------------------------------------------------------\u001b[39m",
      "\u001b[31mNameError\u001b[39m                                 Traceback (most recent call last)",
      "\u001b[36mCell\u001b[39m\u001b[36m \u001b[39m\u001b[32mIn[1]\u001b[39m\u001b[32m, line 1\u001b[39m\n\u001b[32m----> \u001b[39m\u001b[32m1\u001b[39m \u001b[43mconversation\u001b[49m.predict(\u001b[38;5;28minput\u001b[39m=\u001b[33m\"\u001b[39m\u001b[33m你好, 我叫皮皮鲁\u001b[39m\u001b[33m\"\u001b[39m)\n",
      "\u001b[31mNameError\u001b[39m: name 'conversation' is not defined"
     ]
    }
   ],
   "source": [
    "conversation.predict(input=\"你好, 我叫皮皮鲁\")"
   ]
  }
 ],
 "metadata": {
  "kernelspec": {
   "display_name": "llmDev",
   "language": "python",
   "name": "python3"
  },
  "language_info": {
   "codemirror_mode": {
    "name": "ipython",
    "version": 3
   },
   "file_extension": ".py",
   "mimetype": "text/x-python",
   "name": "python",
   "nbconvert_exporter": "python",
   "pygments_lexer": "ipython3",
   "version": "3.11.13"
  }
 },
 "nbformat": 4,
 "nbformat_minor": 5
}
